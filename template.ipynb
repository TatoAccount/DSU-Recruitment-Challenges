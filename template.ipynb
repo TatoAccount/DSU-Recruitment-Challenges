{
 "cells": [
  {
   "cell_type": "markdown",
   "metadata": {},
   "source": [
    "# Xpand IT DS Challenge\n",
    "\n",
    "This notebook contains the template you should use to present your code, results and conclusions. You should keep the main structure intact to make it easier to evaluate and compare in the end."
   ]
  },
  {
   "cell_type": "markdown",
   "metadata": {},
   "source": [
    "## Dataset\n",
    "You can find the dataset in the data folder of the repository. The folder contains two files:\n",
    "* dow_jones_index.data - dataset data\n",
    "* dow_jones_index.names - dataset information and details"
   ]
  },
  {
   "cell_type": "markdown",
   "metadata": {},
   "source": [
    "## Business Analysis\n",
    "Here you should cover an analysis of what is the Dow Jones Index, what research has been done in this field in regards to data science/machine learning, your understanding of the variables of the data set, among other things.\n",
    "\n",
    "-----\n",
    "*Add here your business analysis conclusions (máx. 100 words)*\n",
    "\n",
    "-----\n"
   ]
  },
  {
   "cell_type": "markdown",
   "metadata": {},
   "source": [
    "## Data Understanding\n",
    "During your data understanding phase, you should focus on understanding what each variable holds, compute statistics and visualizations. Some questions that may guide your work follow:\n",
    "* Which variables do you find more valuable for the prediction task ahead?\n",
    "* Feature engineering: should new features be created from the existing ones?\n",
    "* What will be your features and your label?\n",
    "* Is the dataset ready for the prediction task? (ex: missing values)\n",
    "* Are variables related to each other?\n",
    "* Is the amount of data enough for the prediction task? \n",
    "* Does the size of the dataset influence the model of choice?\n",
    "\n",
    "-----"
   ]
  },
  {
   "cell_type": "code",
   "execution_count": null,
   "metadata": {},
   "outputs": [],
   "source": [
    "#add here your imports"
   ]
  },
  {
   "cell_type": "code",
   "execution_count": null,
   "metadata": {},
   "outputs": [],
   "source": [
    "#add here your data understanting code"
   ]
  },
  {
   "cell_type": "markdown",
   "metadata": {},
   "source": [
    "-----\n",
    "*Add here your data understanding findings and conclusions (máx. 200 words)*\n",
    "\n",
    "-----"
   ]
  },
  {
   "cell_type": "markdown",
   "metadata": {},
   "source": [
    "## Modelling\n",
    "In this phase, your main goal is to develop and describe your approach to the solution of the problem. Some guidelines to help you:\n",
    "* What metrics will you use to evaluate your solutions?\n",
    "* According to the metrics chosen, what are some values to be expected?\n",
    "* What are some algorithms that can lead to good results? And why?\n",
    "* Describe in detail your thought process during the development of your solution.\n",
    "* Present your results.\n",
    "\n",
    "-----\n"
   ]
  },
  {
   "cell_type": "code",
   "execution_count": null,
   "metadata": {},
   "outputs": [],
   "source": [
    "#add here your modelling code"
   ]
  },
  {
   "cell_type": "markdown",
   "metadata": {},
   "source": [
    "-----\n",
    "*Add here your modelling results and conclusions (máx. 200 words)*\n",
    "\n",
    "-----"
   ]
  },
  {
   "cell_type": "markdown",
   "metadata": {},
   "source": [
    "## Conclusions\n",
    "In the conclusions, you should enumerate the outcomes you got after completing the challenge.\n",
    "* How good do you consider your results? \n",
    "* What are some factors that would contribute to get better results?\n",
    "* What are some advantages and disadvantages of your solution?\n",
    "* What can be done as future work to improve your results?\n"
   ]
  },
  {
   "cell_type": "markdown",
   "metadata": {},
   "source": [
    "-----\n",
    "*Add here your final conclusions (máx. 200 words)*\n",
    "\n",
    "-----"
   ]
  }
 ],
 "metadata": {
  "kernelspec": {
   "display_name": "Python 3",
   "language": "python",
   "name": "python3"
  },
  "language_info": {
   "codemirror_mode": {
    "name": "ipython",
    "version": 3
   },
   "file_extension": ".py",
   "mimetype": "text/x-python",
   "name": "python",
   "nbconvert_exporter": "python",
   "pygments_lexer": "ipython3",
   "version": "3.7.6"
  }
 },
 "nbformat": 4,
 "nbformat_minor": 4
}
